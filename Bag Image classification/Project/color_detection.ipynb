{
 "cells": [
  {
   "cell_type": "markdown",
   "id": "beadc7b3",
   "metadata": {},
   "source": [
    "## Objective\n",
    "1. Find percentage from majority color from a LV bag\n"
   ]
  },
  {
   "cell_type": "markdown",
   "id": "6181096a",
   "metadata": {},
   "source": [
    "## Import dependencies"
   ]
  },
  {
   "cell_type": "code",
   "execution_count": null,
   "id": "1d29855f",
   "metadata": {},
   "outputs": [],
   "source": [
    "import os\n",
    "import glob\n",
    "import numpy as np\n",
    "import cv2\n",
    "import matplotlib.pyplot as plt  \n",
    "from PIL import Image"
   ]
  },
  {
   "cell_type": "markdown",
   "id": "d02eaf54",
   "metadata": {},
   "source": [
    "## Dataset path"
   ]
  },
  {
   "cell_type": "code",
   "execution_count": null,
   "id": "ee88c8d1",
   "metadata": {},
   "outputs": [],
   "source": [
    "ds_master = \"C:\\\\Users\\\\Nadhif Farizi\\\\repos\\\\Bag Image Classification\\\\Dataset\"\n",
    "ds_speedy = os.path.join(ds_master, \"Speedy 30\")\n",
    "ds_keepall = os.path.join(ds_master, \"Keepall 55\")\n",
    "ds_otherbag = os.path.join(ds_master, \"Other Bags\")"
   ]
  },
  {
   "cell_type": "markdown",
   "id": "323d5ff1",
   "metadata": {},
   "source": [
    "## Function Helper"
   ]
  },
  {
   "cell_type": "code",
   "execution_count": null,
   "id": "7e6f5757",
   "metadata": {},
   "outputs": [],
   "source": [
    "def show_img(img_arr, name=\"None\"):\n",
    "    plt.figure(figsize=(5,5))\n",
    "    plt.imshow(img_arr)\n",
    "    plt.title(name)\n",
    "    plt.show()\n",
    "    \n",
    "def show_hist(img_arr, name=\"none\"):\n",
    "    plt.figure(figsize=(5, 5))\n",
    "    plt.hist(img_arr, bins=255)\n",
    "    plt.title(name)\n",
    "    plt.show()\n",
    "\n",
    "def remove_bg(imgcore_values, theshhold=200):\n",
    "    \n",
    "    new_pixel = list()\n",
    "    for item in imgcore_values:\n",
    "        if item[0] >threshold and item[1]> threshold and item[2] > threshold:\n",
    "            new_pixel.append((255, 255, 255, 0))\n",
    "        else:\n",
    "            new_pixel.append(item)\n",
    "    \n",
    "    rgb\n",
    "    return img_arr"
   ]
  },
  {
   "cell_type": "markdown",
   "id": "949a027c",
   "metadata": {},
   "source": [
    "## Main"
   ]
  },
  {
   "cell_type": "code",
   "execution_count": null,
   "id": "37734590",
   "metadata": {
    "scrolled": false
   },
   "outputs": [],
   "source": [
    "img = Image.open(glob.glob(ds_otherbag + \"\\\\Image_1.jpg\")[0])\n",
    "rgba = img.convert(\"RGBA\")\n",
    "datas = rgba.getdata()\n",
    "\n",
    "\n",
    "new_pixel = list()\n",
    "threshold = 200\n",
    "for item in datas:\n",
    "    if item[0] >threshold and item[1]> threshold and item[2] > threshold:\n",
    "        new_pixel.append((255, 255, 255, 0))\n",
    "    else:\n",
    "        new_pixel.append(item)\n",
    "rgba.putdata(new_pixel)\n",
    "rgba.save(os.path.join(ds_master, \"test.png\"), \"png\")"
   ]
  },
  {
   "cell_type": "code",
   "execution_count": null,
   "id": "9ef8573a",
   "metadata": {},
   "outputs": [],
   "source": [
    "img = cv2.imread(glob.glob(ds_otherbag + \"\\\\Image_19.jpg\")[0])\n",
    "img = cv2.cvtColor(img, cv2.COLOR_BGR2GRAY)\n",
    "cv2.imwrite(os.path.join(ds_master, \"test.png\"), img)"
   ]
  }
 ],
 "metadata": {
  "kernelspec": {
   "display_name": "sportstracker",
   "language": "python",
   "name": "sportstracker"
  },
  "language_info": {
   "codemirror_mode": {
    "name": "ipython",
    "version": 3
   },
   "file_extension": ".py",
   "mimetype": "text/x-python",
   "name": "python",
   "nbconvert_exporter": "python",
   "pygments_lexer": "ipython3",
   "version": "3.9.6"
  },
  "varInspector": {
   "cols": {
    "lenName": 16,
    "lenType": 16,
    "lenVar": 40
   },
   "kernels_config": {
    "python": {
     "delete_cmd_postfix": "",
     "delete_cmd_prefix": "del ",
     "library": "var_list.py",
     "varRefreshCmd": "print(var_dic_list())"
    },
    "r": {
     "delete_cmd_postfix": ") ",
     "delete_cmd_prefix": "rm(",
     "library": "var_list.r",
     "varRefreshCmd": "cat(var_dic_list()) "
    }
   },
   "types_to_exclude": [
    "module",
    "function",
    "builtin_function_or_method",
    "instance",
    "_Feature"
   ],
   "window_display": false
  }
 },
 "nbformat": 4,
 "nbformat_minor": 5
}
